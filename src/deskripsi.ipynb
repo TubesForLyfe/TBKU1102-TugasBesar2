{
  "nbformat": 4,
  "nbformat_minor": 0,
  "metadata": {
    "kernelspec": {
      "display_name": "Python 3",
      "language": "python",
      "name": "python3"
    },
    "language_info": {
      "codemirror_mode": {
        "name": "ipython",
        "version": 3
      },
      "file_extension": ".py",
      "mimetype": "text/x-python",
      "name": "python",
      "nbconvert_exporter": "python",
      "pygments_lexer": "ipython3",
      "version": "3.8.5"
    },
    "colab": {
      "name": "deskripsi.ipynb",
      "provenance": []
    }
  },
  "cells": [
    {
      "cell_type": "markdown",
      "metadata": {
        "id": "0k-M35_GqpWx"
      },
      "source": [
        "# Deskripsi Data"
      ]
    },
    {
      "cell_type": "markdown",
      "metadata": {
        "id": "Onj7gjPZqpW-"
      },
      "source": [
        "Dataset ini berisi statistik audio dari 2000 trek teratas di Spotify. Data berisi sekitar 15 kolom yang masing-masing menjelaskan trek dan kualitasnya. Lagu-lagu yang dirilis dari 1956 hingga 2019 termasuk dari beberapa artis terkenal dan terkenal seperti Queen, The Beatles, Guns N' Roses, dll.\n",
        "\n",
        "Cara kerjanya adalah dengan memanfaatkan fitur Spotify API. Spotify API akan mengekstrak fitur audio dari trek yang diberikan oleh Spotify Playlist URI. Data ini berisi fitur audio seperti Danceability, BPM, Liveness, Valence(Positivity) dan masih banyak lagi."
      ]
    },
    {
      "cell_type": "markdown",
      "metadata": {
        "id": "81rAfUBcqpXA"
      },
      "source": [
        "Dari dataset ini kita dapat mengetahui beberapa hal:\n",
        "\n",
        "1. Genre yang lebih populer dari kurun waktu 1950-an sampai 2000-an \n",
        "\n",
        "2. Lagu-lagu dari genre mana yang cenderung berada pada posisi atas pada tahun 2000-an\n",
        "\n",
        "3. Artis mana yang lebih cenderung membuat lagu papan atas\n",
        "\n",
        "4. Lirik lagu seperti apa yang lebih populer\n",
        "\n",
        "5. Perbandingan tempo rata-rata tiap tahunnya\n",
        "\n",
        "6. Ada atau tidaknya tren genre lagu, baik pada zaman dulu dan sekarang\n"
      ]
    },
    {
      "cell_type": "code",
      "metadata": {
        "id": "kCdTAKBdqpXB"
      },
      "source": [
        "import pandas as pd\n",
        "df1 = pd.read_csv(\"Spotify-2000.csv\")"
      ],
      "execution_count": null,
      "outputs": []
    },
    {
      "cell_type": "markdown",
      "metadata": {
        "id": "rLXEJRecqpXC"
      },
      "source": [
        "# 1. Dimensi\n"
      ]
    },
    {
      "cell_type": "code",
      "metadata": {
        "id": "mOnZPB2cqpXC",
        "outputId": "4bcbd8df-9929-4930-c13b-76616e7bcb39"
      },
      "source": [
        "df1.shape"
      ],
      "execution_count": null,
      "outputs": [
        {
          "data": {
            "text/plain": [
              "(1994, 15)"
            ]
          },
          "execution_count": 16,
          "metadata": {},
          "output_type": "execute_result"
        }
      ]
    },
    {
      "cell_type": "markdown",
      "metadata": {
        "id": "8yj6JLpNqpXE"
      },
      "source": [
        "# 2. Ukuran File Data \n",
        "sebesar 233,8+ KB"
      ]
    },
    {
      "cell_type": "code",
      "metadata": {
        "id": "TodtsRVzqpXE",
        "outputId": "60a16f97-a6f6-44a9-9f8d-37c994a949fa"
      },
      "source": [
        "df1.info()"
      ],
      "execution_count": null,
      "outputs": [
        {
          "name": "stdout",
          "output_type": "stream",
          "text": [
            "<class 'pandas.core.frame.DataFrame'>\n",
            "RangeIndex: 1994 entries, 0 to 1993\n",
            "Data columns (total 15 columns):\n",
            " #   Column                  Non-Null Count  Dtype \n",
            "---  ------                  --------------  ----- \n",
            " 0   Index                   1994 non-null   int64 \n",
            " 1   Title                   1994 non-null   object\n",
            " 2   Artist                  1994 non-null   object\n",
            " 3   Top Genre               1994 non-null   object\n",
            " 4   Year                    1994 non-null   int64 \n",
            " 5   Beats Per Minute (BPM)  1994 non-null   int64 \n",
            " 6   Energy                  1994 non-null   int64 \n",
            " 7   Danceability            1994 non-null   int64 \n",
            " 8   Loudness (dB)           1994 non-null   int64 \n",
            " 9   Liveness                1994 non-null   int64 \n",
            " 10  Valence                 1994 non-null   int64 \n",
            " 11  Length (Duration)       1994 non-null   object\n",
            " 12  Acousticness            1994 non-null   int64 \n",
            " 13  Speechiness             1994 non-null   int64 \n",
            " 14  Popularity              1994 non-null   int64 \n",
            "dtypes: int64(11), object(4)\n",
            "memory usage: 233.8+ KB\n"
          ]
        }
      ]
    }
  ]
}
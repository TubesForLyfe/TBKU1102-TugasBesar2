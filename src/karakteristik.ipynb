{
  "nbformat": 4,
  "nbformat_minor": 0,
  "metadata": {
    "kernelspec": {
      "display_name": "Python 3",
      "language": "python",
      "name": "python3"
    },
    "language_info": {
      "codemirror_mode": {
        "name": "ipython",
        "version": 3
      },
      "file_extension": ".py",
      "mimetype": "text/x-python",
      "name": "python",
      "nbconvert_exporter": "python",
      "pygments_lexer": "ipython3",
      "version": "3.8.5"
    },
    "colab": {
      "name": "karakteristik.ipynb",
      "provenance": []
    }
  },
  "cells": [
    {
      "cell_type": "code",
      "metadata": {
        "id": "AiXJPpxYqn3P"
      },
      "source": [
        "import pandas as pd\n",
        "df1 = pd.read_csv(\"Spotify-2000.csv\")\n",
        "df1 = pd.read_csv('Spotify-2000.csv', thousands=',')"
      ],
      "execution_count": null,
      "outputs": []
    },
    {
      "cell_type": "markdown",
      "metadata": {
        "id": "C4dWje3Pqn3S"
      },
      "source": [
        "# Atribut pada Kolom"
      ]
    },
    {
      "cell_type": "code",
      "metadata": {
        "id": "CyxWoeJmqn3U",
        "outputId": "42d682d8-bc2d-46ba-ba86-f4b832b1cd1a"
      },
      "source": [
        "df1.keys()"
      ],
      "execution_count": null,
      "outputs": [
        {
          "data": {
            "text/plain": [
              "Index(['Index', 'Title', 'Artist', 'Top Genre', 'Year',\n",
              "       'Beats Per Minute (BPM)', 'Energy', 'Danceability', 'Loudness (dB)',\n",
              "       'Liveness', 'Valence', 'Length (Duration)', 'Acousticness',\n",
              "       'Speechiness', 'Popularity'],\n",
              "      dtype='object')"
            ]
          },
          "execution_count": 3,
          "metadata": {},
          "output_type": "execute_result"
        }
      ]
    },
    {
      "cell_type": "markdown",
      "metadata": {
        "id": "vdC6qsRHqn3V"
      },
      "source": [
        "Index: ID (Kuantitatif)\n",
        "\n",
        "Title: Judul lagu (kategorikal, nominal)\n",
        "\n",
        "Artist: Nama penyanyi (kategorikal, nominal)\n",
        "\n",
        "Top Genre: Genre musik (kategorikal, nominal)\n",
        "\n",
        "Year: Tahun perilisan musik (kuantitatif)\n",
        "\n",
        "Beats per Minute(BPM): Tempo dari lagu tersebut (kuantitatif)\n",
        "\n",
        "Energy: Tingkat keenergetikan lagu (kuantitatif)\n",
        "\n",
        "Danceability: Tingkat kecenderungan untuk menari saat mendengar lagu  (kuantitatif)\n",
        "\n",
        "Loudness: Tingkat kekerasan (audio) musik (kuantitatif)\n",
        "\n",
        "Valence: Tingkat kepositifan suasana lagu (kuantitatif)\n",
        "\n",
        "Length: Durasi dari lagu (kuantitatif)\n",
        "\n",
        "Acoustic: Tingkat keakustikan sebuah lagu (kuantatif)\n",
        "\n",
        "Speechiness: Tingkat banyaknya kata dalam lagu(kuantitatif)\n",
        "\n",
        "Popularity: Tingkat popularitas lagu (kuantitatif)"
      ]
    },
    {
      "cell_type": "code",
      "metadata": {
        "id": "QcpXQxX7qn3W",
        "outputId": "58d4da51-a01b-4099-9df3-3e4f59676edd"
      },
      "source": [
        "df1.info()"
      ],
      "execution_count": null,
      "outputs": [
        {
          "name": "stdout",
          "output_type": "stream",
          "text": [
            "<class 'pandas.core.frame.DataFrame'>\n",
            "RangeIndex: 1994 entries, 0 to 1993\n",
            "Data columns (total 15 columns):\n",
            " #   Column                  Non-Null Count  Dtype \n",
            "---  ------                  --------------  ----- \n",
            " 0   Index                   1994 non-null   int64 \n",
            " 1   Title                   1994 non-null   object\n",
            " 2   Artist                  1994 non-null   object\n",
            " 3   Top Genre               1994 non-null   object\n",
            " 4   Year                    1994 non-null   int64 \n",
            " 5   Beats Per Minute (BPM)  1994 non-null   int64 \n",
            " 6   Energy                  1994 non-null   int64 \n",
            " 7   Danceability            1994 non-null   int64 \n",
            " 8   Loudness (dB)           1994 non-null   int64 \n",
            " 9   Liveness                1994 non-null   int64 \n",
            " 10  Valence                 1994 non-null   int64 \n",
            " 11  Length (Duration)       1994 non-null   int64 \n",
            " 12  Acousticness            1994 non-null   int64 \n",
            " 13  Speechiness             1994 non-null   int64 \n",
            " 14  Popularity              1994 non-null   int64 \n",
            "dtypes: int64(12), object(3)\n",
            "memory usage: 233.8+ KB\n"
          ]
        }
      ]
    },
    {
      "cell_type": "markdown",
      "metadata": {
        "id": "WujJQFmLqn3X"
      },
      "source": [
        "# 1. Title"
      ]
    },
    {
      "cell_type": "code",
      "metadata": {
        "id": "1bl99dzuqn3X",
        "outputId": "e5ca9037-0dd3-4991-f78b-0d099558f14b"
      },
      "source": [
        "print(df1[\"Title\"].value_counts())"
      ],
      "execution_count": null,
      "outputs": [
        {
          "name": "stdout",
          "output_type": "stream",
          "text": [
            "Hallelujah                3\n",
            "Feeling Good              3\n",
            "One                       3\n",
            "I Want You                2\n",
            "Sunrise                   2\n",
            "                         ..\n",
            "Speeltuin                 1\n",
            "Radioactive               1\n",
            "We Belong to the Night    1\n",
            "Almost Cut My Hair        1\n",
            "Somebody Told Me          1\n",
            "Name: Title, Length: 1958, dtype: int64\n"
          ]
        }
      ]
    },
    {
      "cell_type": "markdown",
      "metadata": {
        "id": "txEDs5Lkqn3Y"
      },
      "source": [
        "# 2. Artist"
      ]
    },
    {
      "cell_type": "code",
      "metadata": {
        "id": "7bWLpWuRqn3Y",
        "outputId": "517c4ca0-1cd2-415e-fd4c-f8c69831b43e"
      },
      "source": [
        "print(df1[\"Artist\"].value_counts())"
      ],
      "execution_count": null,
      "outputs": [
        {
          "name": "stdout",
          "output_type": "stream",
          "text": [
            "Queen                       37\n",
            "The Beatles                 36\n",
            "Coldplay                    27\n",
            "U2                          26\n",
            "The Rolling Stones          24\n",
            "                            ..\n",
            "Tim Hardin                   1\n",
            "The Dave Brubeck Quartet     1\n",
            "BAP                          1\n",
            "Jason Paige                  1\n",
            "WALK THE MOON                1\n",
            "Name: Artist, Length: 731, dtype: int64\n"
          ]
        }
      ]
    },
    {
      "cell_type": "markdown",
      "metadata": {
        "id": "Wn936xNXqn3Z"
      },
      "source": [
        "# 3. Top Genre"
      ]
    },
    {
      "cell_type": "code",
      "metadata": {
        "id": "GCUvdl09qn3Z",
        "outputId": "fb035d7e-6197-4ff4-be62-a14f09e8215f"
      },
      "source": [
        "print(df1[\"Top Genre\"].value_counts())"
      ],
      "execution_count": null,
      "outputs": [
        {
          "name": "stdout",
          "output_type": "stream",
          "text": [
            "album rock          413\n",
            "adult standards     123\n",
            "dutch pop            88\n",
            "alternative rock     86\n",
            "dance pop            83\n",
            "                   ... \n",
            "rock-and-roll         1\n",
            "canadian rock         1\n",
            "happy hardcore        1\n",
            "irish pop             1\n",
            "latin jazz            1\n",
            "Name: Top Genre, Length: 149, dtype: int64\n"
          ]
        }
      ]
    },
    {
      "cell_type": "markdown",
      "metadata": {
        "id": "eq2mViQuqn3Z"
      },
      "source": [
        "# 4. Year"
      ]
    },
    {
      "cell_type": "code",
      "metadata": {
        "id": "gp_GSgW6qn3a",
        "outputId": "e3f82770-b889-41fe-cf98-121d1ef85b91"
      },
      "source": [
        "# range Year\n",
        "minimum = df1.min()\n",
        "maximum = df1.max()\n",
        "print(minimum[\"Year\"]) \n",
        "print(maximum[\"Year\"]) "
      ],
      "execution_count": null,
      "outputs": [
        {
          "name": "stdout",
          "output_type": "stream",
          "text": [
            "1956\n",
            "2019\n"
          ]
        }
      ]
    },
    {
      "cell_type": "markdown",
      "metadata": {
        "id": "LOU-VESwqn3a"
      },
      "source": [
        "# 5. Beats Per Minute"
      ]
    },
    {
      "cell_type": "code",
      "metadata": {
        "id": "4YSwbloQqn3b",
        "outputId": "22647698-d2ca-4eba-a1a6-64b893a28900"
      },
      "source": [
        "# range BPM\n",
        "minimum = df1.min()\n",
        "maximum = df1.max()\n",
        "print(minimum[\"Beats Per Minute (BPM)\"]) \n",
        "print(maximum[\"Beats Per Minute (BPM)\"]) "
      ],
      "execution_count": null,
      "outputs": [
        {
          "name": "stdout",
          "output_type": "stream",
          "text": [
            "37\n",
            "206\n"
          ]
        }
      ]
    },
    {
      "cell_type": "markdown",
      "metadata": {
        "id": "XvT8ztmhqn3b"
      },
      "source": [
        "# 6. Energy"
      ]
    },
    {
      "cell_type": "code",
      "metadata": {
        "id": "nmEqkBk7qn3b",
        "outputId": "cf239d04-3f61-429c-80aa-5b5ae961c7d6"
      },
      "source": [
        "# Range energy\n",
        "minimum = df1.min()\n",
        "maximum = df1.max()\n",
        "print(minimum[\"Energy\"]) \n",
        "print(maximum[\"Energy\"]) "
      ],
      "execution_count": null,
      "outputs": [
        {
          "name": "stdout",
          "output_type": "stream",
          "text": [
            "3\n",
            "100\n"
          ]
        }
      ]
    },
    {
      "cell_type": "markdown",
      "metadata": {
        "id": "4yNCCjkKqn3c"
      },
      "source": [
        "# 7. Danceability"
      ]
    },
    {
      "cell_type": "code",
      "metadata": {
        "id": "4RtzzDpsqn3c",
        "outputId": "22dad4c1-9c77-4e6c-ff00-6aa860f971a7"
      },
      "source": [
        "# Range danceability\n",
        "minimum = df1.min()\n",
        "maximum = df1.max()\n",
        "print(minimum[\"Danceability\"]) \n",
        "print(maximum[\"Danceability\"]) "
      ],
      "execution_count": null,
      "outputs": [
        {
          "name": "stdout",
          "output_type": "stream",
          "text": [
            "10\n",
            "96\n"
          ]
        }
      ]
    },
    {
      "cell_type": "markdown",
      "metadata": {
        "id": "TFVG5cLjqn3c"
      },
      "source": [
        "# 8. Loudness (dB)  "
      ]
    },
    {
      "cell_type": "code",
      "metadata": {
        "id": "Zl8-8sTCqn3d",
        "outputId": "659686ef-f727-45fa-9443-cf12df97ea41"
      },
      "source": [
        "# Range Loudness (dB)\n",
        "minimum = df1.min()\n",
        "maximum = df1.max()\n",
        "print(minimum[\"Loudness (dB)\"]) \n",
        "print(maximum[\"Loudness (dB)\"]) "
      ],
      "execution_count": null,
      "outputs": [
        {
          "name": "stdout",
          "output_type": "stream",
          "text": [
            "-27\n",
            "-2\n"
          ]
        }
      ]
    },
    {
      "cell_type": "markdown",
      "metadata": {
        "id": "HDo8B8MNqn3d"
      },
      "source": [
        "# 9. Liveness"
      ]
    },
    {
      "cell_type": "code",
      "metadata": {
        "id": "J_se1nxRqn3d",
        "outputId": "10c7f61d-ee80-428d-a5f2-94f07b192197"
      },
      "source": [
        "# Range Liveness\n",
        "minimum = df1.min()\n",
        "maximum = df1.max()\n",
        "print(minimum[\"Liveness\"]) \n",
        "print(maximum[\"Liveness\"]) "
      ],
      "execution_count": null,
      "outputs": [
        {
          "name": "stdout",
          "output_type": "stream",
          "text": [
            "2\n",
            "99\n"
          ]
        }
      ]
    },
    {
      "cell_type": "markdown",
      "metadata": {
        "id": "Hn6OCbt_qn3e"
      },
      "source": [
        "# 10. Valence "
      ]
    },
    {
      "cell_type": "code",
      "metadata": {
        "id": "AScc9e10qn3e",
        "outputId": "cbe7f073-5244-4381-896f-00c3254a6899"
      },
      "source": [
        "# Range Valence\n",
        "minimum = df1.min()\n",
        "maximum = df1.max()\n",
        "print(minimum[\"Valence\"]) \n",
        "print(maximum[\"Valence\"]) "
      ],
      "execution_count": null,
      "outputs": [
        {
          "name": "stdout",
          "output_type": "stream",
          "text": [
            "3\n",
            "99\n"
          ]
        }
      ]
    },
    {
      "cell_type": "markdown",
      "metadata": {
        "id": "yHU9Ff4rqn3e"
      },
      "source": [
        "# 11. Length (Duration)"
      ]
    },
    {
      "cell_type": "code",
      "metadata": {
        "id": "av1KywImqn3f",
        "outputId": "eec2f229-52ab-43b6-ef8a-aba15a5f083d"
      },
      "source": [
        "# Range Length (Duration)\n",
        "minimum = df1.min()\n",
        "maximum = df1.max()\n",
        "print(minimum[\"Length (Duration)\"]) \n",
        "print(maximum[\"Length (Duration)\"]) "
      ],
      "execution_count": null,
      "outputs": [
        {
          "name": "stdout",
          "output_type": "stream",
          "text": [
            "93\n",
            "1412\n"
          ]
        }
      ]
    },
    {
      "cell_type": "markdown",
      "metadata": {
        "id": "SygmzJKfqn3f"
      },
      "source": [
        "# 12. Acousticness  "
      ]
    },
    {
      "cell_type": "code",
      "metadata": {
        "id": "kg_vQNyUqn3f",
        "outputId": "3dfb3a24-b2e1-4738-fb65-9c48f3a4761f"
      },
      "source": [
        "# Range Acousticness\n",
        "minimum = df1.min()\n",
        "maximum = df1.max()\n",
        "print(minimum[\"Acousticness\"]) \n",
        "print(maximum[\"Acousticness\"]) "
      ],
      "execution_count": null,
      "outputs": [
        {
          "name": "stdout",
          "output_type": "stream",
          "text": [
            "0\n",
            "99\n"
          ]
        }
      ]
    },
    {
      "cell_type": "markdown",
      "metadata": {
        "id": "hXYqkxqAqn3g"
      },
      "source": [
        "# 13. Speechiness "
      ]
    },
    {
      "cell_type": "code",
      "metadata": {
        "id": "NXW_ijTIqn3g",
        "outputId": "a8d15c3a-77c3-4015-d68a-d9f94bf2d6ad"
      },
      "source": [
        "# Range Speechiness\n",
        "minimum = df1.min()\n",
        "maximum = df1.max()\n",
        "print(minimum[\"Speechiness\"]) \n",
        "print(maximum[\"Speechiness\"]) "
      ],
      "execution_count": null,
      "outputs": [
        {
          "name": "stdout",
          "output_type": "stream",
          "text": [
            "2\n",
            "55\n"
          ]
        }
      ]
    },
    {
      "cell_type": "markdown",
      "metadata": {
        "id": "p10ukF7dqn3g"
      },
      "source": [
        "# 14. Popularity "
      ]
    },
    {
      "cell_type": "code",
      "metadata": {
        "id": "mzzoxgFBqn3g",
        "outputId": "42596d21-0e44-4716-8ae6-be597c6b1638"
      },
      "source": [
        "# Range Popularity\n",
        "minimum = df1.min()\n",
        "maximum = df1.max()\n",
        "print(minimum[\"Popularity\"]) \n",
        "print(maximum[\"Popularity\"]) "
      ],
      "execution_count": null,
      "outputs": [
        {
          "name": "stdout",
          "output_type": "stream",
          "text": [
            "11\n",
            "100\n"
          ]
        }
      ]
    },
    {
      "cell_type": "markdown",
      "metadata": {
        "id": "Nz69D88Mqn3h"
      },
      "source": [
        "# Persen Data Kosong "
      ]
    },
    {
      "cell_type": "code",
      "metadata": {
        "id": "hv6tSni_qn3i",
        "outputId": "9d7a5f29-38f6-4fa4-f886-73c0b5c5fcca"
      },
      "source": [
        " df1.isna().sum()"
      ],
      "execution_count": null,
      "outputs": [
        {
          "data": {
            "text/plain": [
              "Index                     0\n",
              "Title                     0\n",
              "Artist                    0\n",
              "Top Genre                 0\n",
              "Year                      0\n",
              "Beats Per Minute (BPM)    0\n",
              "Energy                    0\n",
              "Danceability              0\n",
              "Loudness (dB)             0\n",
              "Liveness                  0\n",
              "Valence                   0\n",
              "Length (Duration)         0\n",
              "Acousticness              0\n",
              "Speechiness               0\n",
              "Popularity                0\n",
              "dtype: int64"
            ]
          },
          "execution_count": 26,
          "metadata": {},
          "output_type": "execute_result"
        }
      ]
    },
    {
      "cell_type": "markdown",
      "metadata": {
        "id": "5XxW69iLqn3i"
      },
      "source": [
        "--> berarti persen data kosong untuk semua data adalah 0%"
      ]
    }
  ]
}